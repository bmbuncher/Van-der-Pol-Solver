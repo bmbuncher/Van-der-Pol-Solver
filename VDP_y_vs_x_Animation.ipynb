{
 "cells": [
  {
   "cell_type": "code",
   "execution_count": null,
   "metadata": {
    "collapsed": true
   },
   "outputs": [],
   "source": [
    "%matplotlib inline"
   ]
  },
  {
   "cell_type": "code",
   "execution_count": null,
   "metadata": {
    "collapsed": true
   },
   "outputs": [],
   "source": [
    "import numpy as np\n",
    "import matplotlib.pyplot as plt\n",
    "from scipy.integrate import odeint\n",
    "from matplotlib import cm\n",
    "import matplotlib.colors as Colors\n",
    "import matplotlib.path as path\n",
    "import matplotlib.lines as mlines\n",
    "import matplotlib.patches as mpatches\n",
    "import matplotlib.animation as animation\n",
    "\n",
    "import VDP_y_funcs as VDP\n",
    "\n",
    "from IPython.display import HTML\n",
    "\n",
    "plt.rc('text', usetex = True)\n",
    "params = {'text.latex.preamble' : [r'\\usepackage{amsmath}']}\n",
    "plt.rc('animation', html = 'html5')\n",
    "plt.rcParams.update(params)"
   ]
  },
  {
   "cell_type": "code",
   "execution_count": null,
   "metadata": {},
   "outputs": [],
   "source": [
    "t_max = 5000.0\n",
    "\n",
    "figp, axp, ts, xys = VDP.animate_phase_space_setup(t_max = t_max, y0 = 0.1, cbar_params = [0.92, 0.04, True], norm_type = 'log')\n",
    "\n",
    "xs, ys = xys.T\n",
    "ts2, xs2, ys2 = ts[::100], xs[::100], ys[::100]\n",
    "xs2, ys2 = xs2[: len(xs2) // 2], ys2[: len(ys2) // 2]\n",
    "\n",
    "line, = axp.plot([], [], marker = 'o', markevery = [-1], mfc = 'r', mec = 'r', markersize = 10.0, c = 'k', zorder = 3)\n",
    "\n",
    "def line_init():\n",
    "    line = axp.plot([], [])[0]\n",
    "    return (line,)\n",
    "\n",
    "def line_update(i):\n",
    "    line.set_xdata(xs[: i])\n",
    "    line.set_ydata(ys[: i])\n",
    "    return (line,)\n",
    "\n",
    "axp.set_title(r'Van der Pol Phase Portrait for $y_0 = 0.1$', fontsize = 20, pad = 10)\n",
    "figp.get_children()[2].set_title(r'$\\lvert\\vec{v}\\rvert$', fontsize = 20, pad = 10)\n",
    "\n",
    "yp_text = axp.text(0.51, 0.99, r'$\\boldsymbol{y^+}$', fontsize = 22.0, bbox = {'facecolor': 'w', 'edgecolor': 'w', 'alpha': 0.9}, ha = 'left', va = 'top', transform = axp.transAxes)\n",
    "\n",
    "ym_text = axp.text(0.51, 0.02, r'$\\boldsymbol{y^-}$', fontsize = 22.0, bbox = {'facecolor': 'w', 'edgecolor': 'w', 'alpha': 0.9}, ha = 'left', va = 'bottom', transform = axp.transAxes)\n",
    "\n",
    "arrow_line = axp.plot(xs[:2], ys[:2], c = 'none')\n",
    "VDP.add_arrow_to_line2D(axp, arrow_line[0],\n",
    "                        arrow_locs = [0.0],\n",
    "                        arrowsize = 3,\n",
    "                        linewidth = 0.5,\n",
    "                        facecolor = 'k',\n",
    "                        edgecolor = 'k',\n",
    "                        arrowstyle = '-|>')\n",
    "\n",
    "figp.canvas.draw()\n",
    "\n",
    "phase_anim = animation.FuncAnimation(figp, line_update, init_func = line_init, interval = 0.2, frames = len(xs2), blit = True)"
   ]
  },
  {
   "cell_type": "code",
   "execution_count": null,
   "metadata": {},
   "outputs": [],
   "source": [
    "HTML(phase_anim.to_html5_video())"
   ]
  },
  {
   "cell_type": "code",
   "execution_count": null,
   "metadata": {},
   "outputs": [],
   "source": [
    "phase_anim.save('./animations/y0_0-1_xy.mp4')"
   ]
  },
  {
   "cell_type": "code",
   "execution_count": null,
   "metadata": {
    "collapsed": true
   },
   "outputs": [],
   "source": []
  },
  {
   "cell_type": "code",
   "execution_count": null,
   "metadata": {},
   "outputs": [],
   "source": [
    "t_max = 5000.0\n",
    "\n",
    "figp, axp, ts, xys = VDP.animate_phase_space_setup(t_max = t_max, x0 = 2.5, y0 = 3.0, cbar_params = [0.92, 0.04, True], norm_type = 'log')\n",
    "\n",
    "xs, ys = xys.T\n",
    "ts2, xs2, ys2 = ts[::100], xs[::100], ys[::100]\n",
    "xs2, ys2 = xs2[: len(xs2) // 2], ys2[: len(ys2) // 2]\n",
    "line, = axp.plot([], [], marker = 'o', markevery = [-1], mfc = 'r', mec = 'r', markersize = 10.0, c = 'k')\n",
    "\n",
    "def line_init():\n",
    "    line = axp.plot([], [])[0]\n",
    "    return (line,)\n",
    "\n",
    "def line_update(i):\n",
    "    line.set_xdata(xs[: i])\n",
    "    line.set_ydata(ys[: i])\n",
    "    return (line,)\n",
    "\n",
    "axp.set_title(r'Van der Pol Phase Portrait for $(x_0, y_0) = (2.5, 3.0)$', fontsize = 20, pad = 10)\n",
    "figp.get_children()[2].set_title(r'$\\lvert\\vec{v}\\rvert$', fontsize = 20, pad = 10)\n",
    "\n",
    "yp_text = axp.text(0.51, 0.99, r'$\\boldsymbol{y^+}$', fontsize = 22.0, bbox = {'facecolor': 'w', 'edgecolor': 'w', 'alpha': 0.9}, ha = 'left', va = 'top', transform = axp.transAxes)\n",
    "\n",
    "ym_text = axp.text(0.51, 0.02, r'$\\boldsymbol{y^-}$', fontsize = 22.0, bbox = {'facecolor': 'w', 'edgecolor': 'w', 'alpha': 0.9}, ha = 'left', va = 'bottom', transform = axp.transAxes)\n",
    "\n",
    "arrow_line = axp.plot(xs[:2], ys[:2], c = 'none')\n",
    "VDP.add_arrow_to_line2D(axp, arrow_line[0],\n",
    "                        arrow_locs = [0.0],\n",
    "                        arrowsize = 3,\n",
    "                        linewidth = 0.5,\n",
    "                        facecolor = 'k',\n",
    "                        edgecolor = 'k',\n",
    "                        arrowstyle = '-|>')\n",
    "\n",
    "phase_anim2 = animation.FuncAnimation(figp, line_update, init_func = line_init, interval = 0.2, frames = len(xs2), blit = True)"
   ]
  },
  {
   "cell_type": "code",
   "execution_count": null,
   "metadata": {
    "collapsed": true
   },
   "outputs": [],
   "source": [
    "HTML(phase_anim2.to_html5_video())"
   ]
  },
  {
   "cell_type": "code",
   "execution_count": null,
   "metadata": {
    "collapsed": true
   },
   "outputs": [],
   "source": [
    "phase_anim2.save('./animations/x0_2-5_y0_3-0_xy.mp4')"
   ]
  },
  {
   "cell_type": "code",
   "execution_count": null,
   "metadata": {
    "collapsed": true
   },
   "outputs": [],
   "source": []
  },
  {
   "cell_type": "code",
   "execution_count": null,
   "metadata": {
    "collapsed": true
   },
   "outputs": [],
   "source": []
  }
 ],
 "metadata": {
  "kernelspec": {
   "display_name": "Python 3",
   "language": "python",
   "name": "python3"
  },
  "language_info": {
   "codemirror_mode": {
    "name": "ipython",
    "version": 3
   },
   "file_extension": ".py",
   "mimetype": "text/x-python",
   "name": "python",
   "nbconvert_exporter": "python",
   "pygments_lexer": "ipython3",
   "version": "3.6.8"
  }
 },
 "nbformat": 4,
 "nbformat_minor": 2
}
